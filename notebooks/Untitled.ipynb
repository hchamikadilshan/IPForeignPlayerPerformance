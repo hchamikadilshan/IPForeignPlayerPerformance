{
 "cells": [
  {
   "cell_type": "code",
   "execution_count": 1,
   "id": "130b903a",
   "metadata": {},
   "outputs": [],
   "source": [
    "import pandas as pd"
   ]
  },
  {
   "cell_type": "code",
   "execution_count": 2,
   "id": "fa3070c4",
   "metadata": {},
   "outputs": [],
   "source": [
    "players_info_dataset = pd.read_csv('../datasets/international_played_foreign_players_updated .csv')"
   ]
  },
  {
   "cell_type": "code",
   "execution_count": 3,
   "id": "45338393",
   "metadata": {},
   "outputs": [
    {
     "name": "stdout",
     "output_type": "stream",
     "text": [
      "<class 'pandas.core.frame.DataFrame'>\n",
      "RangeIndex: 319 entries, 0 to 318\n",
      "Data columns (total 8 columns):\n",
      " #   Column                Non-Null Count  Dtype \n",
      "---  ------                --------------  ----- \n",
      " 0   player_id             319 non-null    int64 \n",
      " 1   player_name           319 non-null    object\n",
      " 2   country               319 non-null    object\n",
      " 3   played_international  319 non-null    object\n",
      " 4   bowling_style         300 non-null    object\n",
      " 5   batting_style         319 non-null    object\n",
      " 6   player_role           319 non-null    object\n",
      " 7   played_t20i           319 non-null    object\n",
      "dtypes: int64(1), object(7)\n",
      "memory usage: 20.1+ KB\n"
     ]
    }
   ],
   "source": [
    "players_info_dataset.info()"
   ]
  },
  {
   "cell_type": "code",
   "execution_count": 4,
   "id": "8fc5e251",
   "metadata": {},
   "outputs": [
    {
     "name": "stdout",
     "output_type": "stream",
     "text": [
      "<class 'pandas.core.frame.DataFrame'>\n",
      "Index: 310 entries, 0 to 318\n",
      "Data columns (total 8 columns):\n",
      " #   Column                Non-Null Count  Dtype \n",
      "---  ------                --------------  ----- \n",
      " 0   player_id             310 non-null    int64 \n",
      " 1   player_name           310 non-null    object\n",
      " 2   country               310 non-null    object\n",
      " 3   played_international  310 non-null    object\n",
      " 4   bowling_style         291 non-null    object\n",
      " 5   batting_style         310 non-null    object\n",
      " 6   player_role           310 non-null    object\n",
      " 7   played_t20i           310 non-null    object\n",
      "dtypes: int64(1), object(7)\n",
      "memory usage: 21.8+ KB\n"
     ]
    }
   ],
   "source": [
    "players_only_played_t20i =  players_info_dataset[players_info_dataset[\"played_t20i\"] == \"Yes\"]\n",
    "players_only_played_t20i.info()"
   ]
  },
  {
   "cell_type": "code",
   "execution_count": 5,
   "id": "b7e9bcaf",
   "metadata": {},
   "outputs": [],
   "source": [
    "players_only_played_t20i.to_csv('../datasets/t20_international_played_foreign_players_updated.csv',index=False)"
   ]
  },
  {
   "cell_type": "code",
   "execution_count": null,
   "id": "cbf007bb",
   "metadata": {},
   "outputs": [],
   "source": []
  }
 ],
 "metadata": {
  "kernelspec": {
   "display_name": "Python 3 (ipykernel)",
   "language": "python",
   "name": "python3"
  },
  "language_info": {
   "codemirror_mode": {
    "name": "ipython",
    "version": 3
   },
   "file_extension": ".py",
   "mimetype": "text/x-python",
   "name": "python",
   "nbconvert_exporter": "python",
   "pygments_lexer": "ipython3",
   "version": "3.11.7"
  }
 },
 "nbformat": 4,
 "nbformat_minor": 5
}
